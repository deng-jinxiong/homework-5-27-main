{
 "cells": [
  {
   "cell_type": "markdown",
   "id": "selective-shakespeare",
   "metadata": {},
   "source": [
    "# Dask starter notebook\n",
    "\n",
    "This notebook introduces the basics of using dask with delayed functions and bags.\n",
    "\n",
    "You don't need to write any code to execute this notebook, just step through each cell."
   ]
  },
  {
   "cell_type": "code",
   "id": "opening-montreal",
   "metadata": {
    "ExecuteTime": {
     "end_time": "2024-05-19T12:17:54.452024Z",
     "start_time": "2024-05-19T12:17:54.010278Z"
    }
   },
   "source": [
    "import dask\n",
    "import dask.bag as db\n",
    "\n",
    "# We'll use sleep to simulate some real work\n",
    "from time import sleep"
   ],
   "outputs": [],
   "execution_count": 1
  },
  {
   "cell_type": "code",
   "id": "tough-maker",
   "metadata": {
    "ExecuteTime": {
     "end_time": "2024-05-19T12:17:54.458148Z",
     "start_time": "2024-05-19T12:17:54.454546Z"
    }
   },
   "source": [
    "# We'll define a function that sleeps for 1 second to simulate work,\n",
    "# then returns the square of its input.\n",
    "\n",
    "def square(x):\n",
    "    sleep(1)\n",
    "    return x*x"
   ],
   "outputs": [],
   "execution_count": 2
  },
  {
   "cell_type": "code",
   "id": "directed-representation",
   "metadata": {
    "ExecuteTime": {
     "end_time": "2024-05-19T12:18:04.475141Z",
     "start_time": "2024-05-19T12:17:54.460384Z"
    }
   },
   "source": [
    "# How long does it take to run a sum-of-squares serially?\n",
    "%time sum([square(z) for z in range(10)])"
   ],
   "outputs": [
    {
     "name": "stdout",
     "output_type": "stream",
     "text": [
      "CPU times: total: 0 ns\n",
      "Wall time: 10 s\n"
     ]
    },
    {
     "data": {
      "text/plain": [
       "285"
      ]
     },
     "execution_count": 3,
     "metadata": {},
     "output_type": "execute_result"
    }
   ],
   "execution_count": 3
  },
  {
   "cell_type": "code",
   "id": "optimum-drinking",
   "metadata": {
    "ExecuteTime": {
     "end_time": "2024-05-19T12:18:04.480987Z",
     "start_time": "2024-05-19T12:18:04.477154Z"
    }
   },
   "source": [
    "# Make a delayed version of square\n",
    "f = dask.delayed(square)\n",
    "\n",
    "# y is now a delayed computation\n",
    "y = f(5)"
   ],
   "outputs": [],
   "execution_count": 4
  },
  {
   "cell_type": "code",
   "id": "documentary-vault",
   "metadata": {
    "ExecuteTime": {
     "end_time": "2024-05-19T12:18:04.492799Z",
     "start_time": "2024-05-19T12:18:04.484067Z"
    }
   },
   "source": [
    "y"
   ],
   "outputs": [
    {
     "data": {
      "text/plain": [
       "Delayed('square-94cdccef-0315-4ffb-a6ea-bb81ee125869')"
      ]
     },
     "execution_count": 5,
     "metadata": {},
     "output_type": "execute_result"
    }
   ],
   "execution_count": 5
  },
  {
   "cell_type": "code",
   "id": "banner-collaboration",
   "metadata": {
    "ExecuteTime": {
     "end_time": "2024-05-19T12:18:04.500606Z",
     "start_time": "2024-05-19T12:18:04.494808Z"
    }
   },
   "source": [
    "# We can derive a delayed computation for our sum above\n",
    "z = dask.delayed(sum)([f(x) for x in range(10)])"
   ],
   "outputs": [],
   "execution_count": 6
  },
  {
   "cell_type": "code",
   "id": "stretch-scope",
   "metadata": {
    "ExecuteTime": {
     "end_time": "2024-05-19T12:18:07.009960Z",
     "start_time": "2024-05-19T12:18:04.502611Z"
    }
   },
   "source": [
    "# How long does it take to run the delayed summation with dask?\n",
    "%time z.compute()"
   ],
   "outputs": [
    {
     "name": "stdout",
     "output_type": "stream",
     "text": [
      "CPU times: total: 31.2 ms\n",
      "Wall time: 2.49 s\n"
     ]
    },
    {
     "data": {
      "text/plain": [
       "285"
      ]
     },
     "execution_count": 7,
     "metadata": {},
     "output_type": "execute_result"
    }
   ],
   "execution_count": 7
  },
  {
   "cell_type": "code",
   "id": "163637a5-bc0b-472e-aae8-728075c39476",
   "metadata": {
    "ExecuteTime": {
     "end_time": "2024-05-19T12:18:09.031126Z",
     "start_time": "2024-05-19T12:18:07.013966Z"
    }
   },
   "source": [
    "# How long does it take to run the delayed summation with dask if we force the number of workers using thread mode\n",
    "%time z.compute(scheduler='threads', num_workers=5)"
   ],
   "outputs": [
    {
     "name": "stdout",
     "output_type": "stream",
     "text": [
      "CPU times: total: 0 ns\n",
      "Wall time: 2.01 s\n"
     ]
    },
    {
     "data": {
      "text/plain": [
       "285"
      ]
     },
     "execution_count": 8,
     "metadata": {},
     "output_type": "execute_result"
    }
   ],
   "execution_count": 8
  },
  {
   "cell_type": "code",
   "id": "b480bf3d-c4ac-4bb4-b3e1-509b57dc3ccb",
   "metadata": {
    "ExecuteTime": {
     "end_time": "2024-05-19T12:18:16.128290Z",
     "start_time": "2024-05-19T12:18:09.032278Z"
    }
   },
   "source": [
    "# How long does it take to run the delayed summation with dask if using process mode\n",
    "%time z.compute(scheduler='processes', num_workers=5)"
   ],
   "outputs": [
    {
     "name": "stdout",
     "output_type": "stream",
     "text": [
      "CPU times: total: 0 ns\n",
      "Wall time: 7.07 s\n"
     ]
    },
    {
     "data": {
      "text/plain": [
       "285"
      ]
     },
     "execution_count": 9,
     "metadata": {},
     "output_type": "execute_result"
    }
   ],
   "execution_count": 9
  },
  {
   "cell_type": "code",
   "id": "c2c67e97-86a5-4418-8d9b-78f8922dffe7",
   "metadata": {
    "ExecuteTime": {
     "end_time": "2024-05-19T12:18:26.146117Z",
     "start_time": "2024-05-19T12:18:16.128290Z"
    }
   },
   "source": [
    "# How long does it take to run the delayed summation with dask if we use synchronous mode\n",
    "%time z.compute(scheduler='synchronous', num_workers=5)"
   ],
   "outputs": [
    {
     "name": "stdout",
     "output_type": "stream",
     "text": [
      "CPU times: total: 0 ns\n",
      "Wall time: 10 s\n"
     ]
    },
    {
     "data": {
      "text/plain": [
       "285"
      ]
     },
     "execution_count": 10,
     "metadata": {},
     "output_type": "execute_result"
    }
   ],
   "execution_count": 10
  },
  {
   "cell_type": "markdown",
   "id": "french-bailey",
   "metadata": {},
   "source": [
    "## Bags\n",
    "\n",
    "The code above uses only delayed functions to express parallel computation.\n",
    "We can also use bags to represent our data, and have a slightly higher-level control over things."
   ]
  },
  {
   "cell_type": "code",
   "id": "meaningful-sheffield",
   "metadata": {
    "ExecuteTime": {
     "end_time": "2024-05-19T12:18:26.152779Z",
     "start_time": "2024-05-19T12:18:26.146117Z"
    }
   },
   "source": [
    "# Make a bag out of the sequence [0, 1, 2, 3, 4]\n",
    "# Give it 3 partitions\n",
    "bag = db.from_sequence(range(5), npartitions=3)\n",
    "\n",
    "# Map the square function over the bag\n",
    "c = bag.map(square)\n",
    "\n",
    "# Apply the sum function to the result\n",
    "d = c.sum()"
   ],
   "outputs": [],
   "execution_count": 11
  },
  {
   "cell_type": "code",
   "id": "thorough-cassette",
   "metadata": {
    "ExecuteTime": {
     "end_time": "2024-05-19T12:18:26.162377Z",
     "start_time": "2024-05-19T12:18:26.152779Z"
    }
   },
   "source": [
    "bag"
   ],
   "outputs": [
    {
     "data": {
      "text/plain": [
       "dask.bag<from_sequence, npartitions=3>"
      ]
     },
     "execution_count": 12,
     "metadata": {},
     "output_type": "execute_result"
    }
   ],
   "execution_count": 12
  },
  {
   "cell_type": "code",
   "id": "powered-brass",
   "metadata": {
    "ExecuteTime": {
     "end_time": "2024-05-19T12:18:26.169779Z",
     "start_time": "2024-05-19T12:18:26.162377Z"
    }
   },
   "source": [
    "# Mapping a function over a bag produces a new bag with the same partition structure\n",
    "c"
   ],
   "outputs": [
    {
     "data": {
      "text/plain": [
       "dask.bag<square, npartitions=3>"
      ]
     },
     "execution_count": 13,
     "metadata": {},
     "output_type": "execute_result"
    }
   ],
   "execution_count": 13
  },
  {
   "cell_type": "code",
   "id": "theoretical-draft",
   "metadata": {
    "ExecuteTime": {
     "end_time": "2024-05-19T12:18:26.586089Z",
     "start_time": "2024-05-19T12:18:26.171783Z"
    }
   },
   "source": [
    "# We can visualize the computation as follows:\n",
    "c.visualize()"
   ],
   "outputs": [
    {
     "data": {
      "image/png": "[encoded data removed]",
      "text/plain": [
       "<IPython.core.display.Image object>"
      ]
     },
     "execution_count": 14,
     "metadata": {},
     "output_type": "execute_result"
    }
   ],
   "execution_count": 14
  },
  {
   "cell_type": "code",
   "id": "filled-benchmark",
   "metadata": {
    "ExecuteTime": {
     "end_time": "2024-05-19T12:18:26.594141Z",
     "start_time": "2024-05-19T12:18:26.586089Z"
    }
   },
   "source": [
    "# Applying a sum() reduction gives us a single Item (not a bag)\n",
    "d"
   ],
   "outputs": [
    {
     "data": {
      "text/plain": [
       "<dask.bag.core.Item at 0x17191cf6190>"
      ]
     },
     "execution_count": 15,
     "metadata": {},
     "output_type": "execute_result"
    }
   ],
   "execution_count": 15
  },
  {
   "cell_type": "code",
   "id": "painful-hygiene",
   "metadata": {
    "ExecuteTime": {
     "end_time": "2024-05-19T12:18:26.709937Z",
     "start_time": "2024-05-19T12:18:26.594141Z"
    }
   },
   "source": [
    "d.visualize()"
   ],
   "outputs": [
    {
     "data": {
      "image/png": "[encoded data removed]",
      "text/plain": [
       "<IPython.core.display.Image object>"
      ]
     },
     "execution_count": 16,
     "metadata": {},
     "output_type": "execute_result"
    }
   ],
   "execution_count": 16
  },
  {
   "cell_type": "code",
   "id": "dense-practitioner",
   "metadata": {
    "ExecuteTime": {
     "end_time": "2024-05-19T12:18:32.239391Z",
     "start_time": "2024-05-19T12:18:26.710942Z"
    }
   },
   "source": [
    "d.compute()"
   ],
   "outputs": [
    {
     "data": {
      "text/plain": [
       "30"
      ]
     },
     "execution_count": 17,
     "metadata": {},
     "output_type": "execute_result"
    }
   ],
   "execution_count": 17
  }
 ],
 "metadata": {
  "kernelspec": {
   "display_name": "Python 3 (ipykernel)",
   "language": "python",
   "name": "python3"
  },
  "language_info": {
   "codemirror_mode": {
    "name": "ipython",
    "version": 3
   },
   "file_extension": ".py",
   "mimetype": "text/x-python",
   "name": "python",
   "nbconvert_exporter": "python",
   "pygments_lexer": "ipython3",
   "version": "3.9.10"
  }
 },
 "nbformat": 4,
 "nbformat_minor": 5
}
